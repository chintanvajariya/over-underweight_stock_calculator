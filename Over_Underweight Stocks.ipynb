{
 "cells": [
  {
   "cell_type": "markdown",
   "id": "e917145c",
   "metadata": {},
   "source": [
    "# Determining Whether Amazon is Over/Underweight\n",
    "*Chintan Vajariya* </p>"
   ]
  },
  {
   "cell_type": "markdown",
   "id": "c4cf6765",
   "metadata": {},
   "source": [
    "We begin this journey with a discussion of fundamental return weighting."
   ]
  },
  {
   "cell_type": "markdown",
   "id": "9e3ef576",
   "metadata": {},
   "source": [
    "### Which security are we weighing?\n",
    "Of the many stocks in the S&P 500, most will be overweight while some under. A stock like NVIDIA (NVDA) will quite easily qualify as overweight, while a non S&P stock such as Rite Aid (RA) would quite easily qualify as underweight. For this reason, I chose a large-cap stock, specifically **Amazon** (AMZN)."
   ]
  },
  {
   "cell_type": "markdown",
   "id": "0deab2eb",
   "metadata": {},
   "source": [
    "## Fundamental Returns Weighting\n",
    "\n",
    "My first weighing technique will be defined by several *fundamental* datapoints, such as earnings per share (EPS), revenue, book value per share, fair value estimate, expected earnings etc. and its data will be scraped (with Selenium) from Yahoo Finance. Each of thse datapoints will be visually compared to the average values of the S&P, providing us with an easily digestible definition for weight."
   ]
  },
  {
   "cell_type": "code",
   "execution_count": 78,
   "id": "00cc7414",
   "metadata": {},
   "output" : {},
   "source": [
    "from selenium import webdriver\n",
    "from selenium.webdriver.chrome.service import Service as ChromeService\n",
    "from webdriver_manager.chrome import ChromeDriverManager\n",
    "from selenium.webdriver.chrome.options import Options\n",
    "from selenium.webdriver.common.by import By\n",
    "\n",
    "stock_name = 'Amazon'\n",
    "ticker = 'AMZN'\n",
    "\n",
    "# url of NFLX Yahoo page\n",
    "url = f'https://finance.yahoo.com/quote/{ticker}/key-statistics/?p={ticker}'\n",
    "\n",
    "# initialize a web driver instance to control a Chrome window\n",
    "options = Options()\n",
    "options.add_argument('--headless=new')\n",
    "driver = webdriver.Chrome(service=ChromeService(ChromeDriverManager(driver_version='119.0.6045.199').install()), options=options)\n",
    "\n",
    "# visit the target page\n",
    "driver.get(url)\n",
    "\n",
    "# in order to find values, I use inspect element and select the value I want. then I right click on the element HTML\n",
    "# and select \"Copy XPath\", which is pasted into the single quotes\n",
    "# this scraping could be done for any stock\n",
    "\n",
    "sp = driver.find_element(By.XPATH, '//*[@id=\"nimbus-app\"]/section/section/section/article/section[1]/div[2]/div[1]/section/div/section[1]/div[1]/fin-streamer[1]/span').text\n",
    "if(sp != 'N/A'):\n",
    "    stock_price = float(sp.replace(',', ''))\n",
    "\n",
    "bvps = driver.find_element(By.XPATH, '//*[@id=\"nimbus-app\"]/section/section/section/article/article/div/section[1]/div/section[5]/table/tbody/tr[6]/td[2]').text\n",
    "if(bvps != 'N/A'):\n",
    "    book_val_per_share = float(bvps.replace(',', ''))\n",
    "\n",
    "eps = driver.find_element(By.XPATH, '//*[@id=\"nimbus-app\"]/section/section/section/article/article/div/section[1]/div/section[4]/table/tbody/tr[7]/td[2]').text\n",
    "if(eps != 'N/A'):\n",
    "    earnings_per_share = float(eps.replace(',', ''))\n",
    "\n",
    "per = driver.find_element(By.XPATH, '//*[@id=\"nimbus-app\"]/section/section/section/article/article/div/section[1]/div/section[5]/table/tbody/tr[5]/td[2]').text\n",
    "if(per != 'N/A'):\n",
    "    pe_ratio = float(per)\n",
    "\n",
    "om = driver.find_element(By.XPATH, '//*[@id=\"nimbus-app\"]/section/section/section/article/article/div/section[1]/div/section[2]/table/tbody/tr[2]/td[2]').text\n",
    "if(om != 'N/A'):\n",
    "    operating_margin = float(om.replace('%', ''))\n",
    "\n",
    "egr = driver.find_element(By.XPATH, '//*[@id=\"nimbus-app\"]/section/section/section/article/section[2]/div[2]/table[1]/tbody/tr[5]/td[2]').text\n",
    "if(egr != 'N/A'):\n",
    "    earnings_growth_rate = float(egr.replace('%', ''))\n",
    "\n",
    "# since market cap and revenue are listed as '34.1B' or '821M', we need to convert them from strings into integers\n",
    "tens = dict(k=10e3, m=10e6, b=10e9, t=10e12)\n",
    "mc = driver.find_element(By.XPATH, '//*[@id=\"nimbus-app\"]/section/section/section/article/article/div/section[1]/div/section[4]/table/tbody/tr[1]/td[2]').text\n",
    "if(mc != 'N/A'):\n",
    "    market_cap = mc\n",
    "factor, exp = market_cap[0:-1], market_cap[-1].lower()\n",
    "market_cap = int(float(factor) * tens[exp])\n",
    "\n",
    "ar = driver.find_element(By.XPATH, '//*[@id=\"nimbus-app\"]/section/section/section/article/article/div/section[1]/div/section[4]/table/tbody/tr[1]/td[2]').text\n",
    "if(ar != 'N/A'):\n",
    "    annual_revenue = ar\n",
    "factor, exp = annual_revenue[0:-1], annual_revenue[-1].lower()\n",
    "annual_revenue = int(float(factor) * tens[exp])\n",
    "\n",
    "ps_ratio = market_cap / annual_revenue\n",
    "\n",
    "pegr = driver.find_element(By.XPATH, '//*[@id=\"nimbus-app\"]/section/section/section/article/section[2]/div[2]/table[1]/tbody/tr[5]/td[2]').text\n",
    "if(pegr != 'N/A'):\n",
    "    peg_ratio = pegr\n",
    "\n",
    "b = driver.find_element(By.XPATH, '//*[@id=\"nimbus-app\"]/section/section/section/article/article/div/section[2]/div/section[1]/table/tbody/tr[1]/td[2]').text\n",
    "if(b != 'N/A'):\n",
    "    beta = float(b)\n",
    "\n",
    "\n",
    "# close the browser\n",
    "driver.quit()"
   ]
  },
  {
   "cell_type": "markdown",
   "id": "c3120727",
   "metadata": {},
   "source": [
    "We've scraped all of the data that we'll need from Yahoo. Each of these datapoints can help us determine whether Netflix is overweight or underweight. However, we need to print this data and make a pandas dataframe out of it, which happens in this coming cell."
   ]
  },
  {
   "cell_type": "code",
   "execution_count": 59,
   "id": "efd4627c",
   "metadata": {},
   "outputs": [
    {
     "name": "stdout",
     "output_type": "stream",
     "text": [
      "Stock Price: $178.5\n",
      "Book Value Per Share: $22.54\n",
      "Earnings Per Share: $4.19\n",
      "PE Ratio: 1.1\n",
      "Operating Margin: 9.92\n",
      "EGR: 2.16\n",
      "PS Ratio: 1.0\n",
      "PEG Ratio: 2.16\n",
      "Beta: 1.15\n"
     ]
    }
   ],
   "source": [
    "print(\"Stock Price: $\" + str(stock_price))\n",
    "\n",
    "# > stock price = better, overweight, S&P = 110.56\n",
    "print(\"Book Value Per Share: $\" + str(book_val_per_share))\n",
    "\n",
    "# > is better, S&P average EPS last 12 months = 48.41\n",
    "print(\"Earnings Per Share: $\" + str(earnings_per_share))\n",
    "\n",
    "#large price-earnings ratio = bad, S&P = 16.03\n",
    "print(\"PE Ratio: \" + str(pe_ratio))\n",
    "\n",
    "# large = good, S&P average 16%\n",
    "print(\"Operating Margin: \" + str(operating_margin))\n",
    "\n",
    "# large estimated growth rate = good, S&P average 0.8% over last 12 months\n",
    "print(\"EGR: \" + str(earnings_growth_rate))\n",
    "\n",
    "# price sales ratio > S&P = good, S&P average PS last 12 months = 2.49\n",
    "print(\"PS Ratio: \" + str(ps_ratio))\n",
    "\n",
    "# Price/Earnings-to-Growth ratio< 1 = good, S&P average  last 12 months = 1.56\n",
    "print(\"PEG Ratio: \" + str(peg_ratio))\n",
    "\n",
    "# > 1 is volatile, S&P is 1, can be overweight depending on portfolio\n",
    "print(\"Beta: \" + str(beta))"
   ]
  },
  {
   "cell_type": "markdown",
   "id": "6302a4cb",
   "metadata": {},
   "source": [
    "## Data Visualization\n",
    "Through this prior cell, we've scraped Yahoo's Statistics page on Amazon's and computed several values that will ultimately assist us in deciding whether the security is over or underweight. Our next step is to compare these values to the S&P average values, thereby informing us whether or not Amazon will outperform the market."
   ]
  },
  {
   "cell_type": "code",
   "execution_count": 71,
   "id": "9fe1aebd",
   "metadata": {},
   "outputs": [
    {
     "data": {
      "text/html": [
       "<div>\n",
       "<style scoped>\n",
       "    .dataframe tbody tr th:only-of-type {\n",
       "        vertical-align: middle;\n",
       "    }\n",
       "\n",
       "    .dataframe tbody tr th {\n",
       "        vertical-align: top;\n",
       "    }\n",
       "\n",
       "    .dataframe thead th {\n",
       "        text-align: right;\n",
       "    }\n",
       "</style>\n",
       "<table border=\"1\" class=\"dataframe\">\n",
       "  <thead>\n",
       "    <tr style=\"text-align: right;\">\n",
       "      <th></th>\n",
       "      <th>Measurement</th>\n",
       "      <th>Amazon</th>\n",
       "      <th>S&amp;P 500</th>\n",
       "    </tr>\n",
       "  </thead>\n",
       "  <tbody>\n",
       "    <tr>\n",
       "      <th>0</th>\n",
       "      <td>Stock Price =</td>\n",
       "      <td>178.50</td>\n",
       "      <td>5648.40</td>\n",
       "    </tr>\n",
       "    <tr>\n",
       "      <th>1</th>\n",
       "      <td>BVPS ↦</td>\n",
       "      <td>22.54</td>\n",
       "      <td>1106.21</td>\n",
       "    </tr>\n",
       "    <tr>\n",
       "      <th>2</th>\n",
       "      <td>EPS ↦</td>\n",
       "      <td>4.19</td>\n",
       "      <td>47.37</td>\n",
       "    </tr>\n",
       "    <tr>\n",
       "      <th>3</th>\n",
       "      <td>PE Ratio ↤</td>\n",
       "      <td>1.10</td>\n",
       "      <td>27.45</td>\n",
       "    </tr>\n",
       "    <tr>\n",
       "      <th>4</th>\n",
       "      <td>Operating Margin ↦</td>\n",
       "      <td>9.92</td>\n",
       "      <td>11.50</td>\n",
       "    </tr>\n",
       "    <tr>\n",
       "      <th>5</th>\n",
       "      <td>EGR ↦</td>\n",
       "      <td>2.16</td>\n",
       "      <td>0.80</td>\n",
       "    </tr>\n",
       "    <tr>\n",
       "      <th>6</th>\n",
       "      <td>PS Ratio ↦</td>\n",
       "      <td>1.00</td>\n",
       "      <td>2.98</td>\n",
       "    </tr>\n",
       "    <tr>\n",
       "      <th>7</th>\n",
       "      <td>PEG Ratio ↤</td>\n",
       "      <td>2.16</td>\n",
       "      <td>1.56</td>\n",
       "    </tr>\n",
       "    <tr>\n",
       "      <th>8</th>\n",
       "      <td>Beta ↦</td>\n",
       "      <td>1.15</td>\n",
       "      <td>1.00</td>\n",
       "    </tr>\n",
       "  </tbody>\n",
       "</table>\n",
       "</div>"
      ],
      "text/plain": [
       "          Measurement  Amazon  S&P 500\n",
       "0       Stock Price =  178.50  5648.40\n",
       "1              BVPS ↦   22.54  1106.21\n",
       "2               EPS ↦    4.19    47.37\n",
       "3          PE Ratio ↤    1.10    27.45\n",
       "4  Operating Margin ↦    9.92    11.50\n",
       "5               EGR ↦    2.16     0.80\n",
       "6          PS Ratio ↦    1.00     2.98\n",
       "7         PEG Ratio ↤    2.16     1.56\n",
       "8              Beta ↦    1.15     1.00"
      ]
     },
     "execution_count": 71,
     "metadata": {},
     "output_type": "execute_result"
    }
   ],
   "source": [
    "import pandas as pd\n",
    "  \n",
    "# initialize data of lists\n",
    "test = {'Measurement': [\"Stock Price =\", \"BVPS ↦\", \"EPS ↦\", \"PE Ratio ↤\", \"Operating Margin ↦\", \"EGR ↦\", \"PS Ratio ↦\", \"PEG Ratio ↤\", \"Beta ↦\"],\n",
    "        f'{stock_name}': [float(stock_price), float(book_val_per_share), float(earnings_per_share), float(pe_ratio), float(operating_margin), float(earnings_growth_rate), float(ps_ratio), float(peg_ratio), float(beta)], \n",
    "        'S&P 500': [5648.40, 1106.21, 47.37, 27.45, 11.5, 0.8, 2.98, 1.56, 1]}\n",
    "\n",
    "df = pd.DataFrame(test)\n",
    "\n",
    "# Print the output.\n",
    "df"
   ]
  },
  {
   "cell_type": "code",
   "execution_count": 73,
   "id": "b1d8b27d",
   "metadata": {},
   "outputs": [
    {
     "data": {
      "image/png": "[encoded data removed]",
      "text/plain": [
       "<Figure size 640x480 with 1 Axes>"
      ]
     },
     "metadata": {},
     "output_type": "display_data"
    }
   ],
   "source": [
    "import matplotlib.pyplot as plt\n",
    "import numpy as np\n",
    "\n",
    "# initialize a graph with no initialized inputs\n",
    "fig, ax = plt.subplots()\n",
    "\n",
    "# assigning the amount of x-points and width of bars\n",
    "value = df['Measurement']\n",
    "x = np.arange(len(value))\n",
    "width = 0.3\n",
    "\n",
    "# plotting each bar plot\n",
    "ax.bar(x - width/2, df[f'{stock_name}'], width, label=f'{stock_name}', color='#e50000')\n",
    "ax.bar(x + width/2, df['S&P 500'], width, label='S&P 500', color='#0343df')\n",
    "\n",
    "# changing the yscale to logarithmic and assigning x-labels\n",
    "ax.set_yscale('log')\n",
    "ax.set_ylabel('Varying Units')\n",
    "ax.set_title(f'{stock_name} vs. S&P 500 Weigh-In')\n",
    "ax.set_xticks(x)\n",
    "ax.set_xticklabels(value.astype(str).values, rotation='vertical')\n",
    "ax.legend()\n",
    "\n",
    "plt.show()"
   ]
  },
  {
   "cell_type": "markdown",
   "id": "9c9839dd",
   "metadata": {},
   "source": [
    "Each of these graphed values are indicitave of the weight of our Amazon stock. Those arrows on the value names inform you that the greater value has an increased weight. For example, for the PE Ratio, the higher number is \"better\"/has a greater weight, and the opposite is also true. The \"=\" implies that a greater value doesn't necessarily imply a weight. The reasons behind why these values are chosen are explained further in the write-up, but we find that Amazon is greater 2/8 times. By that definition, Netflix is an underweight stock, quite consistently. This makes sense. They've been quite stagnant since the pandemic, but their competition seems to just be going down. Temu (PDD) has only been going down over the last few months. If we did the same process for Apple, we'd see the following:"
   ]
  },
  {
   "cell_type": "code",
   "execution_count": 76,
   "id": "c89339bb",
   "metadata": {
    "tags": [
     "hide_code",
     "hide-input"
    ]
   },
   "outputs": [
    {
     "data": {
      "image/png": "[encoded data removed]",
      "text/plain": [
       "<Figure size 640x480 with 1 Axes>"
      ]
     },
     "metadata": {},
     "output_type": "display_data"
    }
   ],
   "source": [
    "# these two are the only values I changed\n",
    "stock_name = 'Apple'\n",
    "ticker = 'AAPL'\n",
    "\n",
    "url = f'https://finance.yahoo.com/quote/{ticker}/key-statistics?p={ticker}'\n",
    "\n",
    "options = Options()\n",
    "options.add_argument('--headless=new')\n",
    "driver = webdriver.Chrome(service=ChromeService(ChromeDriverManager(driver_version='119.0.6045.199').install()), options=options)\n",
    "\n",
    "driver.get(url)\n",
    "\n",
    "sp = driver.find_element(By.XPATH, '//*[@id=\"nimbus-app\"]/section/section/section/article/section[1]/div[2]/div[1]/section/div/section[1]/div[1]/fin-streamer[1]/span').text\n",
    "if(sp != 'N/A'):\n",
    "    stock_price = float(sp.replace(',', ''))\n",
    "\n",
    "bvps = driver.find_element(By.XPATH, '//*[@id=\"nimbus-app\"]/section/section/section/article/article/div/section[1]/div/section[5]/table/tbody/tr[6]/td[2]').text\n",
    "if(bvps != 'N/A'):\n",
    "    book_val_per_share = float(bvps.replace(',', ''))\n",
    "\n",
    "eps = driver.find_element(By.XPATH, '//*[@id=\"nimbus-app\"]/section/section/section/article/article/div/section[1]/div/section[4]/table/tbody/tr[7]/td[2]').text\n",
    "if(eps != 'N/A'):\n",
    "    earnings_per_share = float(eps.replace(',', ''))\n",
    "\n",
    "per = driver.find_element(By.XPATH, '//*[@id=\"nimbus-app\"]/section/section/section/article/article/div/section[1]/div/section[5]/table/tbody/tr[5]/td[2]').text\n",
    "if(per != 'N/A'):\n",
    "    pe_ratio = float(per)\n",
    "\n",
    "om = driver.find_element(By.XPATH, '//*[@id=\"nimbus-app\"]/section/section/section/article/article/div/section[1]/div/section[2]/table/tbody/tr[2]/td[2]').text\n",
    "if(om != 'N/A'):\n",
    "    operating_margin = float(om.replace('%', ''))\n",
    "\n",
    "egr = driver.find_element(By.XPATH, '//*[@id=\"nimbus-app\"]/section/section/section/article/section[2]/div[2]/table[1]/tbody/tr[5]/td[2]').text\n",
    "if(egr != 'N/A'):\n",
    "    earnings_growth_rate = float(egr.replace('%', ''))\n",
    "\n",
    "# since market cap and revenue are listed as '34.1B' or '821M', we need to convert them from strings into integers\n",
    "tens = dict(k=10e3, m=10e6, b=10e9, t=10e12)\n",
    "mc = driver.find_element(By.XPATH, '//*[@id=\"nimbus-app\"]/section/section/section/article/article/div/section[1]/div/section[4]/table/tbody/tr[1]/td[2]').text\n",
    "if(mc != 'N/A'):\n",
    "    market_cap = mc\n",
    "factor, exp = market_cap[0:-1], market_cap[-1].lower()\n",
    "market_cap = int(float(factor) * tens[exp])\n",
    "\n",
    "ar = driver.find_element(By.XPATH, '//*[@id=\"nimbus-app\"]/section/section/section/article/article/div/section[1]/div/section[4]/table/tbody/tr[1]/td[2]').text\n",
    "if(ar != 'N/A'):\n",
    "    annual_revenue = ar\n",
    "factor, exp = annual_revenue[0:-1], annual_revenue[-1].lower()\n",
    "annual_revenue = int(float(factor) * tens[exp])\n",
    "\n",
    "ps_ratio = market_cap / annual_revenue\n",
    "\n",
    "pegr = driver.find_element(By.XPATH, '//*[@id=\"nimbus-app\"]/section/section/section/article/section[2]/div[2]/table[1]/tbody/tr[5]/td[2]').text\n",
    "if(pegr != 'N/A'):\n",
    "    peg_ratio = pegr\n",
    "\n",
    "b = driver.find_element(By.XPATH, '//*[@id=\"nimbus-app\"]/section/section/section/article/article/div/section[2]/div/section[1]/table/tbody/tr[1]/td[2]').text\n",
    "if(b != 'N/A'):\n",
    "    beta = float(b)\n",
    "\n",
    "\n",
    "# close the browser\n",
    "driver.quit()\n",
    "\n",
    "  \n",
    "test = {'Measurement': [\"Stock Price =\", \"BVPS ↦\", \"EPS ↦\", \"PE Ratio ↤\", \"Operating Margin ↦\", \"EGR ↦\", \"PS Ratio ↦\", \"PEG Ratio ↤\", \"Beta ↦\"],\n",
    "        f'{stock_name}': [float(stock_price), float(book_val_per_share), float(earnings_per_share), float(pe_ratio), float(operating_margin), float(earnings_growth_rate), float(ps_ratio), float(peg_ratio), float(beta)], \n",
    "        'S&P 500': [4450.32, 110.56, 48.41, 16.03, 16, 0.8, 2.49, 1.56, 1]}\n",
    "\n",
    "df = pd.DataFrame(test)\n",
    "\n",
    "fig, ax = plt.subplots()\n",
    "\n",
    "value = df['Measurement']\n",
    "x = np.arange(len(value))\n",
    "width = 0.3\n",
    "\n",
    "ax.bar(x - width/2, df[f'{stock_name}'], width, label=f'{stock_name}', color='#e50000')\n",
    "ax.bar(x + width/2, df['S&P 500'], width, label='S&P 500', color='#0343df')\n",
    "\n",
    "ax.set_yscale('log')\n",
    "ax.set_ylabel('Varying Units')\n",
    "ax.set_title(f'{stock_name} vs. S&P 500 Weigh-In')\n",
    "ax.set_xticks(x)\n",
    "ax.set_xticklabels(value.astype(str).values, rotation='vertical')\n",
    "ax.legend()\n",
    "\n",
    "plt.show()"
   ]
  },
  {
   "cell_type": "markdown",
   "id": "2c2dc065",
   "metadata": {},
   "source": [
    "From our valuation, Apple is neither over- nor under-weight, bringing us some justification for its astonishing market cap. They pass 4/8 of our tests, providing a more neutral rating when compared to Amazon."
   ]
  }
 ],
 "metadata": {
  "celltoolbar": "Tags",
  "kernelspec": {
   "display_name": "Python 3 (ipykernel)",
   "language": "python",
   "name": "python3"
  },
  "language_info": {
   "codemirror_mode": {
    "name": "ipython",
    "version": 3
   },
   "file_extension": ".py",
   "mimetype": "text/x-python",
   "name": "python",
   "nbconvert_exporter": "python",
   "pygments_lexer": "ipython3",
   "version": "3.11.5"
  }
 },
 "nbformat": 4,
 "nbformat_minor": 5
}
